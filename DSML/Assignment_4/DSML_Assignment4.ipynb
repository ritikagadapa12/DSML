{
  "nbformat": 4,
  "nbformat_minor": 0,
  "metadata": {
    "colab": {
      "provenance": []
    },
    "kernelspec": {
      "name": "python3",
      "display_name": "Python 3"
    },
    "language_info": {
      "name": "python"
    }
  },
  "cells": [
    {
      "cell_type": "code",
      "source": [
        "import numpy as np\n",
        "\n",
        "# Define the points\n",
        "points = np.array([[0.1, 0.6], [0.15, 0.71], [0.08, 0.9], [0.16, 0.85],\n",
        "                   [0.2, 0.3], [0.25, 0.5], [0.24, 0.1], [0.3, 0.2]])\n",
        "\n",
        "# Define initial centroids\n",
        "m1 = points[0]  # P1=[0.1,0.6]\n",
        "m2 = points[7]  # P8=[0.3,0.2]\n",
        "\n",
        "C1 = []\n",
        "C2 = []\n",
        "\n",
        "def k_means_clustering():\n",
        "    global C1, C2, m1, m2\n",
        "\n",
        "    # Clear previous clusters\n",
        "    C1 = []\n",
        "    C2 = []\n",
        "\n",
        "    # Assign each point to nearest centroid\n",
        "    for point in points:\n",
        "        distance_to_m1 = np.linalg.norm(point - m1)\n",
        "        distance_to_m2 = np.linalg.norm(point - m2)\n",
        "\n",
        "        if distance_to_m1 < distance_to_m2:\n",
        "            C1.append(point)\n",
        "        else:\n",
        "            C2.append(point)\n",
        "\n",
        "    # Update centroids\n",
        "    m1 = np.mean(C1, axis=0)\n",
        "    m2 = np.mean(C2, axis=0)\n",
        "\n",
        "# Perform clustering\n",
        "k_means_clustering()\n",
        "\n",
        "# a) Which cluster does P6 belong to?\n",
        "if np.array_equal(np.array(C1), points[5]):\n",
        "    print(\"P6 belongs to Cluster C1.\")\n",
        "else:\n",
        "    print(\"P6 belongs to Cluster C2.\")\n",
        "\n",
        "# b) What is the population of cluster around m2?\n",
        "population_m2 = len(C2)\n",
        "print(\"Population of cluster around m2:\", population_m2)\n",
        "\n",
        "# c) What is updated value of m1 and m2?\n",
        "print(\"Updated value of m1:\", m1)\n",
        "print(\"Updated value of m2:\", m2)\n"
      ],
      "metadata": {
        "colab": {
          "base_uri": "https://localhost:8080/"
        },
        "id": "Kx6b7uhL-zMy",
        "outputId": "dcfdf56d-2b8a-4d7d-d622-68b3ac9b82f4"
      },
      "execution_count": null,
      "outputs": [
        {
          "output_type": "stream",
          "name": "stdout",
          "text": [
            "P6 belongs to Cluster C2.\n",
            "Population of cluster around m2: 3\n",
            "Updated value of m1: [0.148 0.712]\n",
            "Updated value of m2: [0.24666667 0.2       ]\n"
          ]
        }
      ]
    }
  ]
}